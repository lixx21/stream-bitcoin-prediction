{
 "cells": [
  {
   "cell_type": "code",
   "execution_count": 1,
   "metadata": {},
   "outputs": [],
   "source": [
    "import pandas\n",
    "from kafka import KafkaConsumer\n",
    "from time import sleep\n",
    "from json import loads, dump"
   ]
  },
  {
   "cell_type": "code",
   "execution_count": 2,
   "metadata": {},
   "outputs": [],
   "source": [
    "consumer = KafkaConsumer(\"BitcoinData\",\n",
    "                         bootstrap_servers = [\"localhost:9092\"],\n",
    "                         value_deserializer = lambda x: loads(x.decode(\"utf-8\")))"
   ]
  },
  {
   "cell_type": "code",
   "execution_count": 3,
   "metadata": {},
   "outputs": [
    {
     "name": "stdout",
     "output_type": "stream",
     "text": [
      "{'Date': '2024-01-08T00:00:00', 'Day': 8, 'Month': 1, 'Year': 2024, 'Price': 46970.5}\n",
      "{'Date': '2024-01-09T00:00:00', 'Day': 9, 'Month': 1, 'Year': 2024, 'Price': 46139.73}\n",
      "{'Date': '2024-01-10T00:00:00', 'Day': 10, 'Month': 1, 'Year': 2024, 'Price': 46627.78}\n",
      "{'Date': '2024-01-11T00:00:00', 'Day': 11, 'Month': 1, 'Year': 2024, 'Price': 46368.59}\n",
      "{'Date': '2024-01-12T00:00:00', 'Day': 12, 'Month': 1, 'Year': 2024, 'Price': 42853.17}\n",
      "{'Date': '2024-01-13T00:00:00', 'Day': 13, 'Month': 1, 'Year': 2024, 'Price': 42842.38}\n"
     ]
    },
    {
     "ename": "KeyboardInterrupt",
     "evalue": "",
     "output_type": "error",
     "traceback": [
      "\u001b[1;31m---------------------------------------------------------------------------\u001b[0m",
      "\u001b[1;31mKeyboardInterrupt\u001b[0m                         Traceback (most recent call last)",
      "Cell \u001b[1;32mIn[3], line 6\u001b[0m\n\u001b[0;32m      1\u001b[0m \u001b[38;5;66;03m#load real time data to json file\u001b[39;00m\n\u001b[0;32m      2\u001b[0m \u001b[38;5;66;03m# for data in consumer:\u001b[39;00m\n\u001b[0;32m      3\u001b[0m \u001b[38;5;66;03m#     with open(\"IBM-stock-market.json\", \"a\") as file:\u001b[39;00m\n\u001b[0;32m      4\u001b[0m \u001b[38;5;66;03m#         dump(data.value, file)\u001b[39;00m\n\u001b[1;32m----> 6\u001b[0m \u001b[38;5;28;01mfor\u001b[39;00m data \u001b[38;5;129;01min\u001b[39;00m consumer:\n\u001b[0;32m      7\u001b[0m     \u001b[38;5;28mprint\u001b[39m(data\u001b[38;5;241m.\u001b[39mvalue)\n",
      "File \u001b[1;32m~\\AppData\\Local\\Programs\\Python\\Python38\\lib\\site-packages\\kafka\\consumer\\group.py:1193\u001b[0m, in \u001b[0;36mKafkaConsumer.__next__\u001b[1;34m(self)\u001b[0m\n\u001b[0;32m   <a href='file:///c%3A/Users/Lenovo/AppData/Local/Programs/Python/Python38/lib/site-packages/kafka/consumer/group.py?line=1190'>1191</a>\u001b[0m     \u001b[39mreturn\u001b[39;00m \u001b[39mself\u001b[39m\u001b[39m.\u001b[39mnext_v1()\n\u001b[0;32m   <a href='file:///c%3A/Users/Lenovo/AppData/Local/Programs/Python/Python38/lib/site-packages/kafka/consumer/group.py?line=1191'>1192</a>\u001b[0m \u001b[39melse\u001b[39;00m:\n\u001b[1;32m-> <a href='file:///c%3A/Users/Lenovo/AppData/Local/Programs/Python/Python38/lib/site-packages/kafka/consumer/group.py?line=1192'>1193</a>\u001b[0m     \u001b[39mreturn\u001b[39;00m \u001b[39mself\u001b[39;49m\u001b[39m.\u001b[39;49mnext_v2()\n",
      "File \u001b[1;32m~\\AppData\\Local\\Programs\\Python\\Python38\\lib\\site-packages\\kafka\\consumer\\group.py:1201\u001b[0m, in \u001b[0;36mKafkaConsumer.next_v2\u001b[1;34m(self)\u001b[0m\n\u001b[0;32m   <a href='file:///c%3A/Users/Lenovo/AppData/Local/Programs/Python/Python38/lib/site-packages/kafka/consumer/group.py?line=1198'>1199</a>\u001b[0m     \u001b[39mself\u001b[39m\u001b[39m.\u001b[39m_iterator \u001b[39m=\u001b[39m \u001b[39mself\u001b[39m\u001b[39m.\u001b[39m_message_generator_v2()\n\u001b[0;32m   <a href='file:///c%3A/Users/Lenovo/AppData/Local/Programs/Python/Python38/lib/site-packages/kafka/consumer/group.py?line=1199'>1200</a>\u001b[0m \u001b[39mtry\u001b[39;00m:\n\u001b[1;32m-> <a href='file:///c%3A/Users/Lenovo/AppData/Local/Programs/Python/Python38/lib/site-packages/kafka/consumer/group.py?line=1200'>1201</a>\u001b[0m     \u001b[39mreturn\u001b[39;00m \u001b[39mnext\u001b[39;49m(\u001b[39mself\u001b[39;49m\u001b[39m.\u001b[39;49m_iterator)\n\u001b[0;32m   <a href='file:///c%3A/Users/Lenovo/AppData/Local/Programs/Python/Python38/lib/site-packages/kafka/consumer/group.py?line=1201'>1202</a>\u001b[0m \u001b[39mexcept\u001b[39;00m \u001b[39mStopIteration\u001b[39;00m:\n\u001b[0;32m   <a href='file:///c%3A/Users/Lenovo/AppData/Local/Programs/Python/Python38/lib/site-packages/kafka/consumer/group.py?line=1202'>1203</a>\u001b[0m     \u001b[39mself\u001b[39m\u001b[39m.\u001b[39m_iterator \u001b[39m=\u001b[39m \u001b[39mNone\u001b[39;00m\n",
      "File \u001b[1;32m~\\AppData\\Local\\Programs\\Python\\Python38\\lib\\site-packages\\kafka\\consumer\\group.py:1116\u001b[0m, in \u001b[0;36mKafkaConsumer._message_generator_v2\u001b[1;34m(self)\u001b[0m\n\u001b[0;32m   <a href='file:///c%3A/Users/Lenovo/AppData/Local/Programs/Python/Python38/lib/site-packages/kafka/consumer/group.py?line=1113'>1114</a>\u001b[0m \u001b[39mdef\u001b[39;00m \u001b[39m_message_generator_v2\u001b[39m(\u001b[39mself\u001b[39m):\n\u001b[0;32m   <a href='file:///c%3A/Users/Lenovo/AppData/Local/Programs/Python/Python38/lib/site-packages/kafka/consumer/group.py?line=1114'>1115</a>\u001b[0m     timeout_ms \u001b[39m=\u001b[39m \u001b[39m1000\u001b[39m \u001b[39m*\u001b[39m (\u001b[39mself\u001b[39m\u001b[39m.\u001b[39m_consumer_timeout \u001b[39m-\u001b[39m time\u001b[39m.\u001b[39mtime())\n\u001b[1;32m-> <a href='file:///c%3A/Users/Lenovo/AppData/Local/Programs/Python/Python38/lib/site-packages/kafka/consumer/group.py?line=1115'>1116</a>\u001b[0m     record_map \u001b[39m=\u001b[39m \u001b[39mself\u001b[39;49m\u001b[39m.\u001b[39;49mpoll(timeout_ms\u001b[39m=\u001b[39;49mtimeout_ms, update_offsets\u001b[39m=\u001b[39;49m\u001b[39mFalse\u001b[39;49;00m)\n\u001b[0;32m   <a href='file:///c%3A/Users/Lenovo/AppData/Local/Programs/Python/Python38/lib/site-packages/kafka/consumer/group.py?line=1116'>1117</a>\u001b[0m     \u001b[39mfor\u001b[39;00m tp, records \u001b[39min\u001b[39;00m six\u001b[39m.\u001b[39miteritems(record_map):\n\u001b[0;32m   <a href='file:///c%3A/Users/Lenovo/AppData/Local/Programs/Python/Python38/lib/site-packages/kafka/consumer/group.py?line=1117'>1118</a>\u001b[0m         \u001b[39m# Generators are stateful, and it is possible that the tp / records\u001b[39;00m\n\u001b[0;32m   <a href='file:///c%3A/Users/Lenovo/AppData/Local/Programs/Python/Python38/lib/site-packages/kafka/consumer/group.py?line=1118'>1119</a>\u001b[0m         \u001b[39m# here may become stale during iteration -- i.e., we seek to a\u001b[39;00m\n\u001b[0;32m   <a href='file:///c%3A/Users/Lenovo/AppData/Local/Programs/Python/Python38/lib/site-packages/kafka/consumer/group.py?line=1119'>1120</a>\u001b[0m         \u001b[39m# different offset, pause consumption, or lose assignment.\u001b[39;00m\n\u001b[0;32m   <a href='file:///c%3A/Users/Lenovo/AppData/Local/Programs/Python/Python38/lib/site-packages/kafka/consumer/group.py?line=1120'>1121</a>\u001b[0m         \u001b[39mfor\u001b[39;00m record \u001b[39min\u001b[39;00m records:\n\u001b[0;32m   <a href='file:///c%3A/Users/Lenovo/AppData/Local/Programs/Python/Python38/lib/site-packages/kafka/consumer/group.py?line=1121'>1122</a>\u001b[0m             \u001b[39m# is_fetchable(tp) should handle assignment changes and offset\u001b[39;00m\n\u001b[0;32m   <a href='file:///c%3A/Users/Lenovo/AppData/Local/Programs/Python/Python38/lib/site-packages/kafka/consumer/group.py?line=1122'>1123</a>\u001b[0m             \u001b[39m# resets; for all other changes (e.g., seeks) we'll rely on the\u001b[39;00m\n\u001b[0;32m   <a href='file:///c%3A/Users/Lenovo/AppData/Local/Programs/Python/Python38/lib/site-packages/kafka/consumer/group.py?line=1123'>1124</a>\u001b[0m             \u001b[39m# outer function destroying the existing iterator/generator\u001b[39;00m\n\u001b[0;32m   <a href='file:///c%3A/Users/Lenovo/AppData/Local/Programs/Python/Python38/lib/site-packages/kafka/consumer/group.py?line=1124'>1125</a>\u001b[0m             \u001b[39m# via self._iterator = None\u001b[39;00m\n",
      "File \u001b[1;32m~\\AppData\\Local\\Programs\\Python\\Python38\\lib\\site-packages\\kafka\\consumer\\group.py:655\u001b[0m, in \u001b[0;36mKafkaConsumer.poll\u001b[1;34m(self, timeout_ms, max_records, update_offsets)\u001b[0m\n\u001b[0;32m    <a href='file:///c%3A/Users/Lenovo/AppData/Local/Programs/Python/Python38/lib/site-packages/kafka/consumer/group.py?line=652'>653</a>\u001b[0m remaining \u001b[39m=\u001b[39m timeout_ms\n\u001b[0;32m    <a href='file:///c%3A/Users/Lenovo/AppData/Local/Programs/Python/Python38/lib/site-packages/kafka/consumer/group.py?line=653'>654</a>\u001b[0m \u001b[39mwhile\u001b[39;00m \u001b[39mTrue\u001b[39;00m:\n\u001b[1;32m--> <a href='file:///c%3A/Users/Lenovo/AppData/Local/Programs/Python/Python38/lib/site-packages/kafka/consumer/group.py?line=654'>655</a>\u001b[0m     records \u001b[39m=\u001b[39m \u001b[39mself\u001b[39;49m\u001b[39m.\u001b[39;49m_poll_once(remaining, max_records, update_offsets\u001b[39m=\u001b[39;49mupdate_offsets)\n\u001b[0;32m    <a href='file:///c%3A/Users/Lenovo/AppData/Local/Programs/Python/Python38/lib/site-packages/kafka/consumer/group.py?line=655'>656</a>\u001b[0m     \u001b[39mif\u001b[39;00m records:\n\u001b[0;32m    <a href='file:///c%3A/Users/Lenovo/AppData/Local/Programs/Python/Python38/lib/site-packages/kafka/consumer/group.py?line=656'>657</a>\u001b[0m         \u001b[39mreturn\u001b[39;00m records\n",
      "File \u001b[1;32m~\\AppData\\Local\\Programs\\Python\\Python38\\lib\\site-packages\\kafka\\consumer\\group.py:702\u001b[0m, in \u001b[0;36mKafkaConsumer._poll_once\u001b[1;34m(self, timeout_ms, max_records, update_offsets)\u001b[0m\n\u001b[0;32m    <a href='file:///c%3A/Users/Lenovo/AppData/Local/Programs/Python/Python38/lib/site-packages/kafka/consumer/group.py?line=698'>699</a>\u001b[0m     \u001b[39mself\u001b[39m\u001b[39m.\u001b[39m_client\u001b[39m.\u001b[39mpoll(timeout_ms\u001b[39m=\u001b[39m\u001b[39m0\u001b[39m)\n\u001b[0;32m    <a href='file:///c%3A/Users/Lenovo/AppData/Local/Programs/Python/Python38/lib/site-packages/kafka/consumer/group.py?line=700'>701</a>\u001b[0m timeout_ms \u001b[39m=\u001b[39m \u001b[39mmin\u001b[39m(timeout_ms, \u001b[39mself\u001b[39m\u001b[39m.\u001b[39m_coordinator\u001b[39m.\u001b[39mtime_to_next_poll() \u001b[39m*\u001b[39m \u001b[39m1000\u001b[39m)\n\u001b[1;32m--> <a href='file:///c%3A/Users/Lenovo/AppData/Local/Programs/Python/Python38/lib/site-packages/kafka/consumer/group.py?line=701'>702</a>\u001b[0m \u001b[39mself\u001b[39;49m\u001b[39m.\u001b[39;49m_client\u001b[39m.\u001b[39;49mpoll(timeout_ms\u001b[39m=\u001b[39;49mtimeout_ms)\n\u001b[0;32m    <a href='file:///c%3A/Users/Lenovo/AppData/Local/Programs/Python/Python38/lib/site-packages/kafka/consumer/group.py?line=702'>703</a>\u001b[0m \u001b[39m# after the long poll, we should check whether the group needs to rebalance\u001b[39;00m\n\u001b[0;32m    <a href='file:///c%3A/Users/Lenovo/AppData/Local/Programs/Python/Python38/lib/site-packages/kafka/consumer/group.py?line=703'>704</a>\u001b[0m \u001b[39m# prior to returning data so that the group can stabilize faster\u001b[39;00m\n\u001b[0;32m    <a href='file:///c%3A/Users/Lenovo/AppData/Local/Programs/Python/Python38/lib/site-packages/kafka/consumer/group.py?line=704'>705</a>\u001b[0m \u001b[39mif\u001b[39;00m \u001b[39mself\u001b[39m\u001b[39m.\u001b[39m_coordinator\u001b[39m.\u001b[39mneed_rejoin():\n",
      "File \u001b[1;32m~\\AppData\\Local\\Programs\\Python\\Python38\\lib\\site-packages\\kafka\\client_async.py:602\u001b[0m, in \u001b[0;36mKafkaClient.poll\u001b[1;34m(self, timeout_ms, future)\u001b[0m\n\u001b[0;32m    <a href='file:///c%3A/Users/Lenovo/AppData/Local/Programs/Python/Python38/lib/site-packages/kafka/client_async.py?line=598'>599</a>\u001b[0m             timeout \u001b[39m=\u001b[39m \u001b[39mmin\u001b[39m(timeout, \u001b[39mself\u001b[39m\u001b[39m.\u001b[39mconfig[\u001b[39m'\u001b[39m\u001b[39mretry_backoff_ms\u001b[39m\u001b[39m'\u001b[39m])\n\u001b[0;32m    <a href='file:///c%3A/Users/Lenovo/AppData/Local/Programs/Python/Python38/lib/site-packages/kafka/client_async.py?line=599'>600</a>\u001b[0m         timeout \u001b[39m=\u001b[39m \u001b[39mmax\u001b[39m(\u001b[39m0\u001b[39m, timeout)  \u001b[39m# avoid negative timeouts\u001b[39;00m\n\u001b[1;32m--> <a href='file:///c%3A/Users/Lenovo/AppData/Local/Programs/Python/Python38/lib/site-packages/kafka/client_async.py?line=601'>602</a>\u001b[0m     \u001b[39mself\u001b[39;49m\u001b[39m.\u001b[39;49m_poll(timeout \u001b[39m/\u001b[39;49m \u001b[39m1000\u001b[39;49m)\n\u001b[0;32m    <a href='file:///c%3A/Users/Lenovo/AppData/Local/Programs/Python/Python38/lib/site-packages/kafka/client_async.py?line=603'>604</a>\u001b[0m \u001b[39m# called without the lock to avoid deadlock potential\u001b[39;00m\n\u001b[0;32m    <a href='file:///c%3A/Users/Lenovo/AppData/Local/Programs/Python/Python38/lib/site-packages/kafka/client_async.py?line=604'>605</a>\u001b[0m \u001b[39m# if handlers need to acquire locks\u001b[39;00m\n\u001b[0;32m    <a href='file:///c%3A/Users/Lenovo/AppData/Local/Programs/Python/Python38/lib/site-packages/kafka/client_async.py?line=605'>606</a>\u001b[0m responses\u001b[39m.\u001b[39mextend(\u001b[39mself\u001b[39m\u001b[39m.\u001b[39m_fire_pending_completed_requests())\n",
      "File \u001b[1;32m~\\AppData\\Local\\Programs\\Python\\Python38\\lib\\site-packages\\kafka\\client_async.py:634\u001b[0m, in \u001b[0;36mKafkaClient._poll\u001b[1;34m(self, timeout)\u001b[0m\n\u001b[0;32m    <a href='file:///c%3A/Users/Lenovo/AppData/Local/Programs/Python/Python38/lib/site-packages/kafka/client_async.py?line=630'>631</a>\u001b[0m \u001b[39mself\u001b[39m\u001b[39m.\u001b[39m_register_send_sockets()\n\u001b[0;32m    <a href='file:///c%3A/Users/Lenovo/AppData/Local/Programs/Python/Python38/lib/site-packages/kafka/client_async.py?line=632'>633</a>\u001b[0m start_select \u001b[39m=\u001b[39m time\u001b[39m.\u001b[39mtime()\n\u001b[1;32m--> <a href='file:///c%3A/Users/Lenovo/AppData/Local/Programs/Python/Python38/lib/site-packages/kafka/client_async.py?line=633'>634</a>\u001b[0m ready \u001b[39m=\u001b[39m \u001b[39mself\u001b[39;49m\u001b[39m.\u001b[39;49m_selector\u001b[39m.\u001b[39;49mselect(timeout)\n\u001b[0;32m    <a href='file:///c%3A/Users/Lenovo/AppData/Local/Programs/Python/Python38/lib/site-packages/kafka/client_async.py?line=634'>635</a>\u001b[0m end_select \u001b[39m=\u001b[39m time\u001b[39m.\u001b[39mtime()\n\u001b[0;32m    <a href='file:///c%3A/Users/Lenovo/AppData/Local/Programs/Python/Python38/lib/site-packages/kafka/client_async.py?line=635'>636</a>\u001b[0m \u001b[39mif\u001b[39;00m \u001b[39mself\u001b[39m\u001b[39m.\u001b[39m_sensors:\n",
      "File \u001b[1;32m~\\AppData\\Local\\Programs\\Python\\Python38\\lib\\selectors.py:323\u001b[0m, in \u001b[0;36mSelectSelector.select\u001b[1;34m(self, timeout)\u001b[0m\n\u001b[0;32m    <a href='file:///c%3A/Users/Lenovo/AppData/Local/Programs/Python/Python38/lib/selectors.py?line=320'>321</a>\u001b[0m ready \u001b[39m=\u001b[39m []\n\u001b[0;32m    <a href='file:///c%3A/Users/Lenovo/AppData/Local/Programs/Python/Python38/lib/selectors.py?line=321'>322</a>\u001b[0m \u001b[39mtry\u001b[39;00m:\n\u001b[1;32m--> <a href='file:///c%3A/Users/Lenovo/AppData/Local/Programs/Python/Python38/lib/selectors.py?line=322'>323</a>\u001b[0m     r, w, _ \u001b[39m=\u001b[39m \u001b[39mself\u001b[39;49m\u001b[39m.\u001b[39;49m_select(\u001b[39mself\u001b[39;49m\u001b[39m.\u001b[39;49m_readers, \u001b[39mself\u001b[39;49m\u001b[39m.\u001b[39;49m_writers, [], timeout)\n\u001b[0;32m    <a href='file:///c%3A/Users/Lenovo/AppData/Local/Programs/Python/Python38/lib/selectors.py?line=323'>324</a>\u001b[0m \u001b[39mexcept\u001b[39;00m \u001b[39mInterruptedError\u001b[39;00m:\n\u001b[0;32m    <a href='file:///c%3A/Users/Lenovo/AppData/Local/Programs/Python/Python38/lib/selectors.py?line=324'>325</a>\u001b[0m     \u001b[39mreturn\u001b[39;00m ready\n",
      "File \u001b[1;32m~\\AppData\\Local\\Programs\\Python\\Python38\\lib\\selectors.py:314\u001b[0m, in \u001b[0;36mSelectSelector._select\u001b[1;34m(self, r, w, _, timeout)\u001b[0m\n\u001b[0;32m    <a href='file:///c%3A/Users/Lenovo/AppData/Local/Programs/Python/Python38/lib/selectors.py?line=312'>313</a>\u001b[0m \u001b[39mdef\u001b[39;00m \u001b[39m_select\u001b[39m(\u001b[39mself\u001b[39m, r, w, _, timeout\u001b[39m=\u001b[39m\u001b[39mNone\u001b[39;00m):\n\u001b[1;32m--> <a href='file:///c%3A/Users/Lenovo/AppData/Local/Programs/Python/Python38/lib/selectors.py?line=313'>314</a>\u001b[0m     r, w, x \u001b[39m=\u001b[39m select\u001b[39m.\u001b[39;49mselect(r, w, w, timeout)\n\u001b[0;32m    <a href='file:///c%3A/Users/Lenovo/AppData/Local/Programs/Python/Python38/lib/selectors.py?line=314'>315</a>\u001b[0m     \u001b[39mreturn\u001b[39;00m r, w \u001b[39m+\u001b[39m x, []\n",
      "\u001b[1;31mKeyboardInterrupt\u001b[0m: "
     ]
    }
   ],
   "source": [
    "#load real time data to json file\n",
    "# for data in consumer:\n",
    "#     with open(\"IBM-stock-market.json\", \"a\") as file:\n",
    "#         dump(data.value, file)\n",
    "\n",
    "for data in consumer:\n",
    "    print(data.value)"
   ]
  }
 ],
 "metadata": {
  "interpreter": {
   "hash": "9ce43836c8d3287a06e199a1efd6974587c1d8c7cdf961feda0708cd09e2869c"
  },
  "kernelspec": {
   "display_name": "Python 3.8.10 64-bit",
   "language": "python",
   "name": "python3"
  },
  "language_info": {
   "codemirror_mode": {
    "name": "ipython",
    "version": 3
   },
   "file_extension": ".py",
   "mimetype": "text/x-python",
   "name": "python",
   "nbconvert_exporter": "python",
   "pygments_lexer": "ipython3",
   "version": "3.8.10"
  },
  "orig_nbformat": 4
 },
 "nbformat": 4,
 "nbformat_minor": 2
}
